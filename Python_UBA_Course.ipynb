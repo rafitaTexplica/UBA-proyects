{
  "nbformat": 4,
  "nbformat_minor": 0,
  "metadata": {
    "colab": {
      "provenance": [],
      "authorship_tag": "ABX9TyMmDQ2hq026aJY2bGxZhVmE",
      "include_colab_link": true
    },
    "kernelspec": {
      "name": "python3",
      "display_name": "Python 3"
    },
    "language_info": {
      "name": "python"
    }
  },
  "cells": [
    {
      "cell_type": "markdown",
      "metadata": {
        "id": "view-in-github",
        "colab_type": "text"
      },
      "source": [
        "<a href=\"https://colab.research.google.com/github/rafitaTexplica/UBA-proyects/blob/main/Python_UBA_Course.ipynb\" target=\"_parent\"><img src=\"https://colab.research.google.com/assets/colab-badge.svg\" alt=\"Open In Colab\"/></a>"
      ]
    },
    {
      "cell_type": "code",
      "execution_count": null,
      "metadata": {
        "id": "VL9yJXZcL3DF"
      },
      "outputs": [],
      "source": [
        "import numpy as np\n",
        "import sympy as sp\n",
        "import matplotlib.pyplot as plt\n",
        "import seaborn as sns\n",
        "import plotly.express as px"
      ]
    },
    {
      "cell_type": "code",
      "source": [
        "A = sp.Matrix([[1,2,3],[4,5,6]])\n",
        "A\n",
        "At = A.T\n",
        "At"
      ],
      "metadata": {
        "colab": {
          "base_uri": "https://localhost:8080/",
          "height": 78
        },
        "id": "nwEpBvrBOYuu",
        "outputId": "76c2a48e-f06d-4e05-ff89-e87432070dea"
      },
      "execution_count": null,
      "outputs": [
        {
          "output_type": "execute_result",
          "data": {
            "text/plain": [
              "Matrix([\n",
              "[1, 4],\n",
              "[2, 5],\n",
              "[3, 6]])"
            ],
            "text/latex": "$\\displaystyle \\left[\\begin{matrix}1 & 4\\\\2 & 5\\\\3 & 6\\end{matrix}\\right]$"
          },
          "metadata": {},
          "execution_count": 10
        }
      ]
    },
    {
      "cell_type": "code",
      "source": [
        "# El algoritmo le pide al usuario que defina los coeficientes de un polinomio de grado 2.\n",
        "# Luego pregunta por valores de x para devolverle su imágen, graficando los pares ordenados.\n",
        "# Se calculan las raíces, derivadas, integrales y el extremo del polinomio.\n",
        "# Se muestra un boxplot de los valores de x seleccionados.\n",
        "# Notar que para dejar de elegir valores de x se debe tipear 'stop'.\n",
        "\n",
        "import numpy as np\n",
        "import sympy as sp\n",
        "import matplotlib.pyplot as plt\n",
        "import seaborn as sns\n",
        "import plotly.express as px\n",
        "\n",
        "def display_ordered_pairs(x_values, y_values):\n",
        "    for x, y in zip(x_values, y_values):\n",
        "        print(f\"Si x = {x} => f({x}) = {y}\")\n",
        "\n",
        "print(\"Determine los coeficientes del polinomio de grado 2:\")\n",
        "try:\n",
        "  a = float(input(\"a: \"))\n",
        "  if a != 0:\n",
        "      b = float(input(\"b: \"))\n",
        "      c = float(input(\"c: \"))\n",
        "\n",
        "      def f(x):\n",
        "          return(a * x ** 2 + b * x + c)\n",
        "\n",
        "      x = sp.symbols(\"x\")\n",
        "\n",
        "      x_values = []\n",
        "      y_values = []\n",
        "\n",
        "      while True:\n",
        "          print(\"En qué punto de x desea evaluar la función? (Escriba 'stop' para terminar)\")\n",
        "          x_input = input(\"x: \")\n",
        "\n",
        "          if x_input.lower() == \"stop\":\n",
        "              break\n",
        "\n",
        "          else:\n",
        "              try:\n",
        "                  x_value = float(x_input)\n",
        "                  if x_value in x_values:\n",
        "                    print(\"Ya ha ingresado el valor de x. Intente nuevamente.\")\n",
        "                  else:\n",
        "                    y_value = f(x_value)\n",
        "                    x_values.append(x_value)\n",
        "                    y_values.append(y_value)\n",
        "              except ValueError:\n",
        "                  print(\"Entrada no válida. Escriba un número.\")\n",
        "\n",
        "      # Se muestran los pares ordenados seleccionados por el usuario.\n",
        "      display_ordered_pairs(x_values, y_values)\n",
        "\n",
        "      # Se grafican los valores seleccionados por el usuario.\n",
        "      plt.scatter(x_values, y_values, color = \"blue\", label=\"f(x)\")\n",
        "      plt.xlabel('x')\n",
        "      plt.ylabel('y')\n",
        "      plt.title(f\"f(x) = {a}x² + {b}x + {c}\")\n",
        "      plt.legend()\n",
        "      plt.grid(True)\n",
        "      plt.show()\n",
        "\n",
        "      print(\"Algunos cálculos.\")\n",
        "\n",
        "      # Cálculo de las raíces.\n",
        "      discriminante = b**2 - 4*a*c\n",
        "\n",
        "      if discriminante >0:\n",
        "        root_1 = (-b + discriminante**0.5) / (2*a)\n",
        "        root_2 = (-b - discriminante**0.5) / (2*a)\n",
        "        print(\"Las raíces son: \", root_1, \"y \", root_2)\n",
        "      elif discriminante == 0:\n",
        "        single_root = -b / (2*a)\n",
        "        print(\"La raíz doble es: \", single_root)\n",
        "      else:\n",
        "        real_part = -b / (2*a)\n",
        "        imag_part = (-discriminante)**0.5 / (2*a)\n",
        "        print(\"Las raíces son imaginarias\")\n",
        "        print(\"Raíz 1: \", real_part, \"+\", imag_part, \"i\")\n",
        "        print(\"Raíz 2: \", real_part, \"-\", imag_part, \"i\")\n",
        "\n",
        "      # Calculo de las derivadas.\n",
        "      df = sp.diff(f(x),x)\n",
        "      d2f = sp.diff(f(x),x,2)\n",
        "      print(\"La derivada primera es:\", df)\n",
        "      print(\"La derivada segunda es:\", d2f)\n",
        "\n",
        "      # Calculamos la Integral.\n",
        "      print(\"La integral es:\", sp.integrate(f(x),x))\n",
        "\n",
        "      # Calculamos el punto crítico. Determinamos que tipo de extremo es.\n",
        "      p_critico = sp.solve(sp.Eq(df,0))\n",
        "      for p in p_critico:\n",
        "        if d2f.subs(x,p) < 0:\n",
        "          print(\"La función tiene un máximo:\",\"(\",p,\",\",f(p),\")\")\n",
        "        elif d2f.subs(x,p) > 0:\n",
        "          print(\"La función tiene un mínimo:\",\"(\",p,\",\",f(p),\")\")\n",
        "        else:\n",
        "          print(\"El criterio de la segunda derivada no decide el tipo de extremo.\")\n",
        "\n",
        "\n",
        "      # Plot de los input del usuario (boxplot).\n",
        "      sns.set_theme(style=\"whitegrid\")\n",
        "      plt.figure(figsize=(8, 6))\n",
        "      sns.boxplot(data=[x_values], width=0.5, palette=\"viridis\")\n",
        "      plt.ylabel('Distribución')\n",
        "      plt.title(\"Box plot de los valores seleccionados de x\")\n",
        "      plt.show()\n",
        "\n",
        "  else:\n",
        "      print(\"'a' debe ser distinto de cero.\")\n",
        "\n",
        "except ValueError:\n",
        "  print(\"Entrada no válida. Los coeficientes deben ser números.\")\n"
      ],
      "metadata": {
        "id": "XKnJqInn533S"
      },
      "execution_count": null,
      "outputs": []
    },
    {
      "cell_type": "code",
      "source": [],
      "metadata": {
        "id": "xnMDFnp6lqSY"
      },
      "execution_count": null,
      "outputs": []
    }
  ]
}